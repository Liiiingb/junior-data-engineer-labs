{
 "cells": [
  {
   "cell_type": "code",
   "execution_count": 2,
   "id": "4c390c98",
   "metadata": {},
   "outputs": [
    {
     "name": "stdout",
     "output_type": "stream",
     "text": [
      "0 1 1 2 3 5 8 13 21 34 55 89 144 233 377 610 987 1597 "
     ]
    },
    {
     "data": {
      "text/plain": [
       "[0, 1, 1, 2, 3, 5, 8, 13, 21, 34, 55, 89, 144, 233, 377, 610, 987, 1597]"
      ]
     },
     "execution_count": 2,
     "metadata": {},
     "output_type": "execute_result"
    }
   ],
   "source": [
    "def myfibo(n):\n",
    "    a, b = 0, 1\n",
    "    # creat a list \n",
    "    list =[]\n",
    "    while a < n:\n",
    "        print(a, end=' ')\n",
    "        list.append(a)\n",
    "        a,b = b, a+b\n",
    "        \n",
    "    return list\n",
    "\n",
    "myfibo(2000)"
   ]
  },
  {
   "cell_type": "code",
   "execution_count": 3,
   "id": "3484fea4",
   "metadata": {},
   "outputs": [
    {
     "name": "stdout",
     "output_type": "stream",
     "text": [
      "please enter a number: 55\n",
      "0 1 1 2 3 5 8 13 21 34 55 89 144 233 377 610 987 1597 Found\n"
     ]
    }
   ],
   "source": [
    "userInput = int(input(\"please enter a number: \"))\n",
    "list2 =[]\n",
    "list2 = myfibo(2000)\n",
    "\n",
    "def number_founder(userInput):\n",
    "    for i in range(len(list2)):\n",
    "        if (list2[i] == userInput):\n",
    "            print('Found')\n",
    "            return\n",
    "            \n",
    "\n",
    "    print('Not Found')\n",
    "\n",
    "number_founder(userInput)            "
   ]
  },
  {
   "cell_type": "code",
   "execution_count": 45,
   "id": "b03bbe2f",
   "metadata": {},
   "outputs": [
    {
     "data": {
      "text/plain": [
       "1"
      ]
     },
     "execution_count": 45,
     "metadata": {},
     "output_type": "execute_result"
    }
   ],
   "source": [
    "l.count(userInput)"
   ]
  },
  {
   "cell_type": "code",
   "execution_count": 38,
   "id": "18f4767f",
   "metadata": {},
   "outputs": [
    {
     "data": {
      "text/plain": [
       "list"
      ]
     },
     "execution_count": 38,
     "metadata": {},
     "output_type": "execute_result"
    }
   ],
   "source": [
    "list\n"
   ]
  },
  {
   "cell_type": "code",
   "execution_count": null,
   "id": "00e6a32d",
   "metadata": {},
   "outputs": [],
   "source": []
  },
  {
   "cell_type": "code",
   "execution_count": 34,
   "id": "342ff3cc",
   "metadata": {},
   "outputs": [
    {
     "data": {
      "text/plain": [
       "1"
      ]
     },
     "execution_count": 34,
     "metadata": {},
     "output_type": "execute_result"
    }
   ],
   "source": [
    "userInput"
   ]
  },
  {
   "cell_type": "code",
   "execution_count": null,
   "id": "af2a29c8",
   "metadata": {},
   "outputs": [],
   "source": []
  },
  {
   "cell_type": "code",
   "execution_count": null,
   "id": "a870337a",
   "metadata": {},
   "outputs": [],
   "source": []
  }
 ],
 "metadata": {
  "kernelspec": {
   "display_name": "Python 3 (ipykernel)",
   "language": "python",
   "name": "python3"
  },
  "language_info": {
   "codemirror_mode": {
    "name": "ipython",
    "version": 3
   },
   "file_extension": ".py",
   "mimetype": "text/x-python",
   "name": "python",
   "nbconvert_exporter": "python",
   "pygments_lexer": "ipython3",
   "version": "3.9.13"
  }
 },
 "nbformat": 4,
 "nbformat_minor": 5
}
